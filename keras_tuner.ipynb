{
 "cells": [
  {
   "cell_type": "markdown",
   "metadata": {
    "id": "qFdPvlXBOdUN"
   },
   "source": [
    "# Introduction to the Keras Tuner"
   ]
  },
  {
   "cell_type": "markdown",
   "metadata": {
    "id": "xHxb-dlhMIzW"
   },
   "source": [
    "## Overview\n",
    "\n",
    "The Keras Tuner is a library that helps you pick the optimal set of hyperparameters for your TensorFlow program. The process of selecting the right set of hyperparameters for your machine learning (ML) application is called *hyperparameter tuning* or *hypertuning*.\n",
    "\n",
    "Hyperparameters are the variables that govern the training process and the topology of an ML model. These variables remain constant over the training process and directly impact the performance of your ML program. Hyperparameters are of two types:\n",
    "1. **Model hyperparameters** which influence model selection such as the number and width of hidden layers\n",
    "2. **Algorithm hyperparameters** which influence the speed and quality of the learning algorithm such as the learning rate for Stochastic Gradient Descent (SGD) and the number of nearest neighbors for a k Nearest Neighbors (KNN) classifier\n",
    "\n",
    "In this tutorial, you will use the Keras Tuner to perform hypertuning for an image classification application."
   ]
  },
  {
   "cell_type": "markdown",
   "metadata": {
    "id": "MUXex9ctTuDB"
   },
   "source": [
    "## Setup"
   ]
  },
  {
   "cell_type": "code",
   "execution_count": 1,
   "metadata": {
    "id": "IqR2PQG4ZaZ0"
   },
   "outputs": [],
   "source": [
    "import tensorflow as tf\n",
    "from tensorflow import keras"
   ]
  },
  {
   "cell_type": "markdown",
   "metadata": {
    "id": "g83Lwsy-Aq2_"
   },
   "source": [
    "Install and import the Keras Tuner."
   ]
  },
  {
   "cell_type": "code",
   "execution_count": 2,
   "metadata": {
    "colab": {
     "base_uri": "https://localhost:8080/"
    },
    "id": "hpMLpbt9jcO6",
    "outputId": "b396eb93-4dfb-4f2a-99f6-5e1d8a048227"
   },
   "outputs": [
    {
     "name": "stdout",
     "output_type": "stream",
     "text": [
      "\u001b[?25l\r",
      "\u001b[K     |███▍                            | 10 kB 22.8 MB/s eta 0:00:01\r",
      "\u001b[K     |██████▊                         | 20 kB 12.5 MB/s eta 0:00:01\r",
      "\u001b[K     |██████████                      | 30 kB 9.6 MB/s eta 0:00:01\r",
      "\u001b[K     |█████████████▍                  | 40 kB 8.8 MB/s eta 0:00:01\r",
      "\u001b[K     |████████████████▊               | 51 kB 5.2 MB/s eta 0:00:01\r",
      "\u001b[K     |████████████████████            | 61 kB 5.7 MB/s eta 0:00:01\r",
      "\u001b[K     |███████████████████████▍        | 71 kB 5.6 MB/s eta 0:00:01\r",
      "\u001b[K     |██████████████████████████▊     | 81 kB 6.2 MB/s eta 0:00:01\r",
      "\u001b[K     |██████████████████████████████  | 92 kB 6.4 MB/s eta 0:00:01\r",
      "\u001b[K     |████████████████████████████████| 98 kB 3.4 MB/s \n",
      "\u001b[?25h"
     ]
    }
   ],
   "source": [
    "!pip install -q -U keras-tuner"
   ]
  },
  {
   "cell_type": "code",
   "execution_count": 3,
   "metadata": {
    "id": "_leAIdFKAxAD"
   },
   "outputs": [],
   "source": [
    "import keras_tuner as kt"
   ]
  },
  {
   "cell_type": "markdown",
   "metadata": {
    "id": "ReV_UXOgCZvx"
   },
   "source": [
    "## Download and prepare the dataset\n",
    "\n",
    "In this tutorial, you will use the Keras Tuner to find the best hyperparameters for a machine learning model that classifies images of clothing from the [Fashion MNIST dataset](https://github.com/zalandoresearch/fashion-mnist)."
   ]
  },
  {
   "cell_type": "markdown",
   "metadata": {
    "id": "HljH_ENLEdHa"
   },
   "source": [
    "Load the data."
   ]
  },
  {
   "cell_type": "code",
   "execution_count": 4,
   "metadata": {
    "colab": {
     "base_uri": "https://localhost:8080/"
    },
    "id": "OHlHs9Wj_PUM",
    "outputId": "bec91df6-b4ff-41c1-e725-5f6b3b914ed9"
   },
   "outputs": [
    {
     "name": "stdout",
     "output_type": "stream",
     "text": [
      "Downloading data from https://storage.googleapis.com/tensorflow/tf-keras-datasets/train-labels-idx1-ubyte.gz\n",
      "32768/29515 [=================================] - 0s 0us/step\n",
      "40960/29515 [=========================================] - 0s 0us/step\n",
      "Downloading data from https://storage.googleapis.com/tensorflow/tf-keras-datasets/train-images-idx3-ubyte.gz\n",
      "26427392/26421880 [==============================] - 0s 0us/step\n",
      "26435584/26421880 [==============================] - 0s 0us/step\n",
      "Downloading data from https://storage.googleapis.com/tensorflow/tf-keras-datasets/t10k-labels-idx1-ubyte.gz\n",
      "16384/5148 [===============================================================================================] - 0s 0us/step\n",
      "Downloading data from https://storage.googleapis.com/tensorflow/tf-keras-datasets/t10k-images-idx3-ubyte.gz\n",
      "4423680/4422102 [==============================] - 0s 0us/step\n",
      "4431872/4422102 [==============================] - 0s 0us/step\n"
     ]
    }
   ],
   "source": [
    "(img_train, label_train), (img_test, label_test) = keras.datasets.fashion_mnist.load_data()"
   ]
  },
  {
   "cell_type": "code",
   "execution_count": 5,
   "metadata": {
    "id": "bLVhXs3xrUD0"
   },
   "outputs": [],
   "source": [
    "# Normalize pixel values between 0 and 1\n",
    "img_train = img_train.astype('float32') / 255.0\n",
    "img_test = img_test.astype('float32') / 255.0"
   ]
  },
  {
   "cell_type": "markdown",
   "metadata": {
    "id": "K5YEL2H2Ax3e"
   },
   "source": [
    "## Define the model\n",
    "\n",
    "When you build a model for hypertuning, you also define the hyperparameter search space in addition to the model architecture. The model you set up for hypertuning is called a *hypermodel*.\n",
    "\n",
    "You can define a hypermodel through two approaches:\n",
    "\n",
    "* By using a model builder function\n",
    "* By subclassing the `HyperModel` class of the Keras Tuner API\n",
    "\n",
    "You can also use two pre-defined `HyperModel` classes - [HyperXception](https://keras-team.github.io/keras-tuner/documentation/hypermodels/#hyperxception-class) and [HyperResNet](https://keras-team.github.io/keras-tuner/documentation/hypermodels/#hyperresnet-class) for computer vision applications.\n",
    "\n",
    "In this tutorial, you use a model builder function to define the image classification model. The model builder function returns a compiled model and uses hyperparameters you define inline to hypertune the model."
   ]
  },
  {
   "cell_type": "code",
   "execution_count": 6,
   "metadata": {
    "id": "ZQKodC-jtsva"
   },
   "outputs": [],
   "source": [
    "def model_builder(hp):\n",
    "    model = keras.Sequential()\n",
    "    model.add(keras.layers.Flatten(input_shape=(28, 28)))\n",
    "    \n",
    "    # Tune the number of units in the first Dense layer\n",
    "    # Choose an optimal value between 32-512\n",
    "    hp_units = hp.Int('units', min_value=32, max_value=512, step=32)\n",
    "    hp_units1 = hp.Int('units1', min_value=26, max_value=206, step=32)\n",
    "    \n",
    "    model.add(keras.layers.Dense(units=hp_units, activation='relu'))\n",
    "    model.add(keras.layers.Dense(units=hp_units1, activation='relu'))\n",
    "    model.add(keras.layers.Dense(10))\n",
    "    \n",
    "    # you can also use activation hyper tune using this line of code\n",
    "    # activation=hp.Choice('dense_activation',values=['relu', 'tanh', 'sigmoid'],default='relu'),\n",
    "    \n",
    "    # Tune the learning rate for the optimizer\n",
    "    # Choose an optimal value from 0.01, 0.001, or 0.0001\n",
    "    hp_learning_rate = hp.Choice('learning_rate', values=[1e-2, 1e-3, 1e-4])\n",
    "\n",
    "    model.compile(optimizer=keras.optimizers.Adam(learning_rate=hp_learning_rate),\n",
    "                    loss=keras.losses.SparseCategoricalCrossentropy(from_logits=True),\n",
    "                    metrics=['accuracy'])\n",
    "    return model"
   ]
  },
  {
   "cell_type": "markdown",
   "metadata": {
    "id": "0J1VYw4q3x0b"
   },
   "source": [
    "## Instantiate the tuner and perform hypertuning\n",
    "\n",
    "Instantiate the tuner to perform the hypertuning. The Keras Tuner has four tuners available - `RandomSearch`, `Hyperband`, `BayesianOptimization`, and `Sklearn`. In this tutorial, you use the [Hyperband](https://arxiv.org/pdf/1603.06560.pdf) tuner.\n",
    "\n",
    "To instantiate the Hyperband tuner, you must specify the hypermodel, the `objective` to optimize and the maximum number of epochs to train (`max_epochs`)."
   ]
  },
  {
   "cell_type": "code",
   "execution_count": 7,
   "metadata": {
    "id": "oichQFly6Y46"
   },
   "outputs": [],
   "source": [
    "tuner = kt.Hyperband(model_builder,\n",
    "                     objective='val_accuracy',\n",
    "                     max_epochs=10,\n",
    "                     factor=3,\n",
    "                     directory='my_dir',\n",
    "                     project_name='intro_to_kt')"
   ]
  },
  {
   "cell_type": "markdown",
   "metadata": {
    "id": "VaIhhdKf9VtI"
   },
   "source": [
    "The Hyperband tuning algorithm uses adaptive resource allocation and early-stopping to quickly converge on a high-performing model. This is done using a sports championship style bracket. The algorithm trains a large number of models for a few epochs and carries forward only the top-performing half of models to the next round. Hyperband determines the number of models to train in a bracket by computing 1 + log<sub>`factor`</sub>(`max_epochs`) and rounding it up to the nearest integer."
   ]
  },
  {
   "cell_type": "markdown",
   "metadata": {
    "id": "cwhBdXx0Ekj8"
   },
   "source": [
    "Create a callback to stop training early after reaching a certain value for the validation loss."
   ]
  },
  {
   "cell_type": "code",
   "execution_count": 8,
   "metadata": {
    "id": "WT9IkS9NEjLc"
   },
   "outputs": [],
   "source": [
    "stop_early = tf.keras.callbacks.EarlyStopping(monitor='val_loss', patience=5)\n",
    "# patience = 5 is no. of epochs (0-5)  in per search epochs (50)"
   ]
  },
  {
   "cell_type": "markdown",
   "metadata": {
    "id": "UKghEo15Tduy"
   },
   "source": [
    "Run the hyperparameter search. The arguments for the search method are the same as those used for `tf.keras.model.fit` in addition to the callback above."
   ]
  },
  {
   "cell_type": "code",
   "execution_count": 9,
   "metadata": {
    "colab": {
     "base_uri": "https://localhost:8080/"
    },
    "id": "dSBQcTHF9cKt",
    "outputId": "bfa5b5c6-3b45-4127-db50-18f1852cf3a8"
   },
   "outputs": [
    {
     "name": "stdout",
     "output_type": "stream",
     "text": [
      "Trial 30 Complete [00h 01m 22s]\n",
      "val_accuracy: 0.8839166760444641\n",
      "\n",
      "Best val_accuracy So Far: 0.89041668176651\n",
      "Total elapsed time: 00h 15m 48s\n",
      "INFO:tensorflow:Oracle triggered exit\n",
      "\n",
      "The hyperparameter search is complete. The optimal number of units in the first densely-connected\n",
      "layer is 352 and the optimal learning rate for the optimizer\n",
      "is 0.001.\n",
      "\n"
     ]
    }
   ],
   "source": [
    "tuner.search(img_train, label_train, epochs=30, validation_split=0.2, callbacks=[stop_early])\n",
    "\n",
    "# Get the optimal hyperparameters\n",
    "best_hps=tuner.get_best_hyperparameters(num_trials=1)[0]\n",
    "\n",
    "print(f\"\"\"\n",
    "The hyperparameter search is complete. The optimal number of units in the first densely-connected\n",
    "layer is {best_hps.get('units')} and the optimal learning rate for the optimizer\n",
    "is {best_hps.get('learning_rate')}.\n",
    "\"\"\")"
   ]
  },
  {
   "cell_type": "markdown",
   "metadata": {
    "id": "Lak_ylf88xBv"
   },
   "source": [
    "## Train the model\n",
    "\n",
    "Find the optimal number of epochs to train the model with the hyperparameters obtained from the search."
   ]
  },
  {
   "cell_type": "code",
   "execution_count": 10,
   "metadata": {
    "colab": {
     "base_uri": "https://localhost:8080/"
    },
    "id": "McO82AXOuxXh",
    "outputId": "4126f211-da31-4f42-b2df-945550025e13"
   },
   "outputs": [
    {
     "name": "stdout",
     "output_type": "stream",
     "text": [
      "Epoch 1/50\n",
      "1500/1500 [==============================] - 7s 4ms/step - loss: 0.4990 - accuracy: 0.8223 - val_loss: 0.4026 - val_accuracy: 0.8553\n",
      "Epoch 2/50\n",
      "1500/1500 [==============================] - 6s 4ms/step - loss: 0.3722 - accuracy: 0.8642 - val_loss: 0.3629 - val_accuracy: 0.8717\n",
      "Epoch 3/50\n",
      "1500/1500 [==============================] - 6s 4ms/step - loss: 0.3320 - accuracy: 0.8773 - val_loss: 0.3395 - val_accuracy: 0.8763\n",
      "Epoch 4/50\n",
      "1500/1500 [==============================] - 6s 4ms/step - loss: 0.3063 - accuracy: 0.8860 - val_loss: 0.3215 - val_accuracy: 0.8828\n",
      "Epoch 5/50\n",
      "1500/1500 [==============================] - 6s 4ms/step - loss: 0.2877 - accuracy: 0.8928 - val_loss: 0.3123 - val_accuracy: 0.8874\n",
      "Epoch 6/50\n",
      "1500/1500 [==============================] - 6s 4ms/step - loss: 0.2714 - accuracy: 0.8973 - val_loss: 0.3296 - val_accuracy: 0.8798\n",
      "Epoch 7/50\n",
      "1500/1500 [==============================] - 6s 4ms/step - loss: 0.2588 - accuracy: 0.9019 - val_loss: 0.3439 - val_accuracy: 0.8812\n",
      "Epoch 8/50\n",
      "1500/1500 [==============================] - 6s 4ms/step - loss: 0.2475 - accuracy: 0.9069 - val_loss: 0.3225 - val_accuracy: 0.8872\n",
      "Epoch 9/50\n",
      "1500/1500 [==============================] - 6s 4ms/step - loss: 0.2340 - accuracy: 0.9120 - val_loss: 0.3194 - val_accuracy: 0.8894\n",
      "Epoch 10/50\n",
      "1500/1500 [==============================] - 6s 4ms/step - loss: 0.2303 - accuracy: 0.9127 - val_loss: 0.3211 - val_accuracy: 0.8889\n",
      "Epoch 11/50\n",
      "1500/1500 [==============================] - 6s 4ms/step - loss: 0.2190 - accuracy: 0.9175 - val_loss: 0.3360 - val_accuracy: 0.8841\n",
      "Epoch 12/50\n",
      "1500/1500 [==============================] - 6s 4ms/step - loss: 0.2084 - accuracy: 0.9207 - val_loss: 0.3617 - val_accuracy: 0.8838\n",
      "Epoch 13/50\n",
      "1500/1500 [==============================] - 6s 4ms/step - loss: 0.2018 - accuracy: 0.9238 - val_loss: 0.3289 - val_accuracy: 0.8938\n",
      "Epoch 14/50\n",
      "1500/1500 [==============================] - 6s 4ms/step - loss: 0.1953 - accuracy: 0.9257 - val_loss: 0.3426 - val_accuracy: 0.8950\n",
      "Epoch 15/50\n",
      "1500/1500 [==============================] - 6s 4ms/step - loss: 0.1891 - accuracy: 0.9277 - val_loss: 0.3472 - val_accuracy: 0.8909\n",
      "Epoch 16/50\n",
      "1500/1500 [==============================] - 6s 4ms/step - loss: 0.1818 - accuracy: 0.9300 - val_loss: 0.3727 - val_accuracy: 0.8868\n",
      "Epoch 17/50\n",
      "1500/1500 [==============================] - 6s 4ms/step - loss: 0.1768 - accuracy: 0.9333 - val_loss: 0.3696 - val_accuracy: 0.8896\n",
      "Epoch 18/50\n",
      "1500/1500 [==============================] - 6s 4ms/step - loss: 0.1692 - accuracy: 0.9350 - val_loss: 0.3576 - val_accuracy: 0.8898\n",
      "Epoch 19/50\n",
      "1500/1500 [==============================] - 6s 4ms/step - loss: 0.1627 - accuracy: 0.9378 - val_loss: 0.3762 - val_accuracy: 0.8913\n",
      "Epoch 20/50\n",
      "1500/1500 [==============================] - 7s 4ms/step - loss: 0.1599 - accuracy: 0.9394 - val_loss: 0.3739 - val_accuracy: 0.8907\n",
      "Epoch 21/50\n",
      "1500/1500 [==============================] - 7s 5ms/step - loss: 0.1573 - accuracy: 0.9397 - val_loss: 0.3680 - val_accuracy: 0.8980\n",
      "Epoch 22/50\n",
      "1500/1500 [==============================] - 8s 5ms/step - loss: 0.1524 - accuracy: 0.9429 - val_loss: 0.3685 - val_accuracy: 0.8928\n",
      "Epoch 23/50\n",
      "1500/1500 [==============================] - 8s 5ms/step - loss: 0.1451 - accuracy: 0.9447 - val_loss: 0.3886 - val_accuracy: 0.8929\n",
      "Epoch 24/50\n",
      "1500/1500 [==============================] - 8s 5ms/step - loss: 0.1431 - accuracy: 0.9452 - val_loss: 0.3723 - val_accuracy: 0.8957\n",
      "Epoch 25/50\n",
      "1500/1500 [==============================] - 7s 5ms/step - loss: 0.1395 - accuracy: 0.9462 - val_loss: 0.4266 - val_accuracy: 0.8896\n",
      "Epoch 26/50\n",
      "1500/1500 [==============================] - 7s 5ms/step - loss: 0.1349 - accuracy: 0.9488 - val_loss: 0.3889 - val_accuracy: 0.8963\n",
      "Epoch 27/50\n",
      "1500/1500 [==============================] - 7s 5ms/step - loss: 0.1344 - accuracy: 0.9488 - val_loss: 0.4061 - val_accuracy: 0.8910\n",
      "Epoch 28/50\n",
      "1500/1500 [==============================] - 7s 5ms/step - loss: 0.1277 - accuracy: 0.9501 - val_loss: 0.4089 - val_accuracy: 0.8967\n",
      "Epoch 29/50\n",
      "1500/1500 [==============================] - 7s 5ms/step - loss: 0.1249 - accuracy: 0.9523 - val_loss: 0.4188 - val_accuracy: 0.8963\n",
      "Epoch 30/50\n",
      "1500/1500 [==============================] - 7s 5ms/step - loss: 0.1220 - accuracy: 0.9531 - val_loss: 0.4537 - val_accuracy: 0.8936\n",
      "Epoch 31/50\n",
      "1500/1500 [==============================] - 7s 5ms/step - loss: 0.1217 - accuracy: 0.9539 - val_loss: 0.4090 - val_accuracy: 0.8958\n",
      "Epoch 32/50\n",
      "1500/1500 [==============================] - 7s 5ms/step - loss: 0.1150 - accuracy: 0.9565 - val_loss: 0.4447 - val_accuracy: 0.8953\n",
      "Epoch 33/50\n",
      "1500/1500 [==============================] - 7s 5ms/step - loss: 0.1164 - accuracy: 0.9563 - val_loss: 0.4424 - val_accuracy: 0.8925\n",
      "Epoch 34/50\n",
      "1500/1500 [==============================] - 8s 5ms/step - loss: 0.1104 - accuracy: 0.9566 - val_loss: 0.4722 - val_accuracy: 0.8890\n",
      "Epoch 35/50\n",
      "1500/1500 [==============================] - 7s 5ms/step - loss: 0.1059 - accuracy: 0.9594 - val_loss: 0.4996 - val_accuracy: 0.8896\n",
      "Epoch 36/50\n",
      "1500/1500 [==============================] - 7s 5ms/step - loss: 0.1072 - accuracy: 0.9590 - val_loss: 0.4691 - val_accuracy: 0.8924\n",
      "Epoch 37/50\n",
      "1500/1500 [==============================] - 7s 5ms/step - loss: 0.1056 - accuracy: 0.9596 - val_loss: 0.5024 - val_accuracy: 0.8936\n",
      "Epoch 38/50\n",
      "1500/1500 [==============================] - 7s 5ms/step - loss: 0.1025 - accuracy: 0.9611 - val_loss: 0.4933 - val_accuracy: 0.8963\n",
      "Epoch 39/50\n",
      "1500/1500 [==============================] - 8s 5ms/step - loss: 0.0989 - accuracy: 0.9621 - val_loss: 0.5471 - val_accuracy: 0.8890\n",
      "Epoch 40/50\n",
      "1500/1500 [==============================] - 7s 5ms/step - loss: 0.1017 - accuracy: 0.9614 - val_loss: 0.4902 - val_accuracy: 0.8931\n",
      "Epoch 41/50\n",
      "1500/1500 [==============================] - 7s 5ms/step - loss: 0.0963 - accuracy: 0.9631 - val_loss: 0.5424 - val_accuracy: 0.8929\n",
      "Epoch 42/50\n",
      "1500/1500 [==============================] - 8s 5ms/step - loss: 0.0951 - accuracy: 0.9640 - val_loss: 0.5223 - val_accuracy: 0.8924\n",
      "Epoch 43/50\n",
      "1500/1500 [==============================] - 7s 5ms/step - loss: 0.0969 - accuracy: 0.9636 - val_loss: 0.5251 - val_accuracy: 0.8953\n",
      "Epoch 44/50\n",
      "1500/1500 [==============================] - 7s 5ms/step - loss: 0.0891 - accuracy: 0.9649 - val_loss: 0.5276 - val_accuracy: 0.8970\n",
      "Epoch 45/50\n",
      "1500/1500 [==============================] - 7s 5ms/step - loss: 0.0875 - accuracy: 0.9671 - val_loss: 0.5326 - val_accuracy: 0.8915\n",
      "Epoch 46/50\n",
      "1500/1500 [==============================] - 7s 5ms/step - loss: 0.0876 - accuracy: 0.9666 - val_loss: 0.5061 - val_accuracy: 0.8973\n",
      "Epoch 47/50\n",
      "1500/1500 [==============================] - 7s 5ms/step - loss: 0.0861 - accuracy: 0.9665 - val_loss: 0.5638 - val_accuracy: 0.8869\n",
      "Epoch 48/50\n",
      "1500/1500 [==============================] - 7s 4ms/step - loss: 0.0849 - accuracy: 0.9681 - val_loss: 0.6052 - val_accuracy: 0.8906\n",
      "Epoch 49/50\n",
      "1500/1500 [==============================] - 7s 5ms/step - loss: 0.0837 - accuracy: 0.9678 - val_loss: 0.5805 - val_accuracy: 0.8966\n",
      "Epoch 50/50\n",
      "1500/1500 [==============================] - 7s 5ms/step - loss: 0.0832 - accuracy: 0.9682 - val_loss: 0.5848 - val_accuracy: 0.8942\n",
      "Best epoch: 21\n"
     ]
    }
   ],
   "source": [
    "# Build the model with the optimal hyperparameters and train it on the data for 50 epochs\n",
    "model = tuner.hypermodel.build(best_hps)\n",
    "history = model.fit(img_train, label_train, epochs=50, validation_split=0.2)\n",
    "\n",
    "val_acc_per_epoch = history.history['val_accuracy']\n",
    "best_epoch = val_acc_per_epoch.index(max(val_acc_per_epoch)) + 1\n",
    "print('Best epoch: %d' % (best_epoch,))"
   ]
  },
  {
   "cell_type": "markdown",
   "metadata": {
    "id": "uOTSirSTI3Gp"
   },
   "source": [
    "Re-instantiate the hypermodel and train it with the optimal number of epochs from above."
   ]
  },
  {
   "cell_type": "code",
   "execution_count": 11,
   "metadata": {
    "colab": {
     "base_uri": "https://localhost:8080/"
    },
    "id": "NoiPUEHmMhCe",
    "outputId": "69cb19e9-7f1a-4568-b7e5-00b3ba8f4c07"
   },
   "outputs": [
    {
     "name": "stdout",
     "output_type": "stream",
     "text": [
      "Epoch 1/21\n",
      "1500/1500 [==============================] - 7s 4ms/step - loss: 0.5090 - accuracy: 0.8193 - val_loss: 0.4032 - val_accuracy: 0.8567\n",
      "Epoch 2/21\n",
      "1500/1500 [==============================] - 6s 4ms/step - loss: 0.3742 - accuracy: 0.8638 - val_loss: 0.3515 - val_accuracy: 0.8724\n",
      "Epoch 3/21\n",
      "1500/1500 [==============================] - 6s 4ms/step - loss: 0.3348 - accuracy: 0.8763 - val_loss: 0.3670 - val_accuracy: 0.8688\n",
      "Epoch 4/21\n",
      "1500/1500 [==============================] - 6s 4ms/step - loss: 0.3101 - accuracy: 0.8837 - val_loss: 0.3625 - val_accuracy: 0.8679\n",
      "Epoch 5/21\n",
      "1500/1500 [==============================] - 7s 4ms/step - loss: 0.2904 - accuracy: 0.8925 - val_loss: 0.3334 - val_accuracy: 0.8808\n",
      "Epoch 6/21\n",
      "1500/1500 [==============================] - 7s 4ms/step - loss: 0.2732 - accuracy: 0.8980 - val_loss: 0.3236 - val_accuracy: 0.8840\n",
      "Epoch 7/21\n",
      "1500/1500 [==============================] - 7s 4ms/step - loss: 0.2599 - accuracy: 0.9025 - val_loss: 0.3191 - val_accuracy: 0.8856\n",
      "Epoch 8/21\n",
      "1500/1500 [==============================] - 6s 4ms/step - loss: 0.2493 - accuracy: 0.9057 - val_loss: 0.3420 - val_accuracy: 0.8820\n",
      "Epoch 9/21\n",
      "1500/1500 [==============================] - 6s 4ms/step - loss: 0.2371 - accuracy: 0.9108 - val_loss: 0.3262 - val_accuracy: 0.8874\n",
      "Epoch 10/21\n",
      "1500/1500 [==============================] - 6s 4ms/step - loss: 0.2315 - accuracy: 0.9126 - val_loss: 0.3128 - val_accuracy: 0.8922\n",
      "Epoch 11/21\n",
      "1500/1500 [==============================] - 7s 4ms/step - loss: 0.2216 - accuracy: 0.9165 - val_loss: 0.3104 - val_accuracy: 0.8892\n",
      "Epoch 12/21\n",
      "1500/1500 [==============================] - 7s 5ms/step - loss: 0.2129 - accuracy: 0.9188 - val_loss: 0.3208 - val_accuracy: 0.8928\n",
      "Epoch 13/21\n",
      "1500/1500 [==============================] - 7s 4ms/step - loss: 0.2059 - accuracy: 0.9221 - val_loss: 0.3340 - val_accuracy: 0.8912\n",
      "Epoch 14/21\n",
      "1500/1500 [==============================] - 6s 4ms/step - loss: 0.1976 - accuracy: 0.9248 - val_loss: 0.3310 - val_accuracy: 0.8922\n",
      "Epoch 15/21\n",
      "1500/1500 [==============================] - 7s 5ms/step - loss: 0.1905 - accuracy: 0.9282 - val_loss: 0.3205 - val_accuracy: 0.8924\n",
      "Epoch 16/21\n",
      "1500/1500 [==============================] - 8s 5ms/step - loss: 0.1859 - accuracy: 0.9295 - val_loss: 0.3382 - val_accuracy: 0.8901\n",
      "Epoch 17/21\n",
      "1500/1500 [==============================] - 7s 5ms/step - loss: 0.1807 - accuracy: 0.9312 - val_loss: 0.3545 - val_accuracy: 0.8898\n",
      "Epoch 18/21\n",
      "1500/1500 [==============================] - 7s 5ms/step - loss: 0.1746 - accuracy: 0.9342 - val_loss: 0.3459 - val_accuracy: 0.8904\n",
      "Epoch 19/21\n",
      "1500/1500 [==============================] - 7s 5ms/step - loss: 0.1683 - accuracy: 0.9360 - val_loss: 0.3459 - val_accuracy: 0.8939\n",
      "Epoch 20/21\n",
      "1500/1500 [==============================] - 7s 5ms/step - loss: 0.1629 - accuracy: 0.9377 - val_loss: 0.3670 - val_accuracy: 0.8876\n",
      "Epoch 21/21\n",
      "1500/1500 [==============================] - 8s 6ms/step - loss: 0.1627 - accuracy: 0.9389 - val_loss: 0.3667 - val_accuracy: 0.8974\n"
     ]
    },
    {
     "data": {
      "text/plain": [
       "<keras.callbacks.History at 0x7f7f5fdf58d0>"
      ]
     },
     "execution_count": 11,
     "metadata": {},
     "output_type": "execute_result"
    }
   ],
   "source": [
    "hypermodel = tuner.hypermodel.build(best_hps)\n",
    "\n",
    "# Retrain the model\n",
    "hypermodel.fit(img_train, label_train, epochs=best_epoch, validation_split=0.2)"
   ]
  },
  {
   "cell_type": "markdown",
   "metadata": {
    "id": "MqU5ZVAaag2v"
   },
   "source": [
    "To finish this tutorial, evaluate the hypermodel on the test data."
   ]
  },
  {
   "cell_type": "code",
   "execution_count": 12,
   "metadata": {
    "colab": {
     "base_uri": "https://localhost:8080/"
    },
    "id": "9E0BTp9Ealjb",
    "outputId": "0303b3bd-2d6f-45bc-9f7c-4d5d6fe7bac5"
   },
   "outputs": [
    {
     "name": "stdout",
     "output_type": "stream",
     "text": [
      "313/313 [==============================] - 1s 3ms/step - loss: 0.3981 - accuracy: 0.8896\n",
      "[test loss, test accuracy]: [0.39813658595085144, 0.8895999789237976]\n"
     ]
    }
   ],
   "source": [
    "eval_result = hypermodel.evaluate(img_test, label_test)\n",
    "print(\"[test loss, test accuracy]:\", eval_result)"
   ]
  },
  {
   "cell_type": "markdown",
   "metadata": {
    "id": "EQRpPHZsz-eC"
   },
   "source": [
    "The `my_dir/intro_to_kt` directory contains detailed logs and checkpoints for every trial (model configuration) run during the hyperparameter search. If you re-run the hyperparameter search, the Keras Tuner uses the existing state from these logs to resume the search. To disable this behavior, pass an additional `overwrite=True` argument while instantiating the tuner."
   ]
  },
  {
   "cell_type": "markdown",
   "metadata": {
    "id": "sKwLOzKpFGAj"
   },
   "source": [
    "## Summary\n",
    "\n",
    "In this tutorial, you learned how to use the Keras Tuner to tune hyperparameters for a model. To learn more about the Keras Tuner, check out these additional resources:\n",
    "\n",
    "* [Keras Tuner on the TensorFlow blog](https://blog.tensorflow.org/2020/01/hyperparameter-tuning-with-keras-tuner.html)\n",
    "* [Keras Tuner website](https://keras-team.github.io/keras-tuner/)\n",
    "\n",
    "Also check out the [HParams Dashboard](https://www.tensorflow.org/tensorboard/hyperparameter_tuning_with_hparams) in TensorBoard to interactively tune your model hyperparameters."
   ]
  }
 ],
 "metadata": {
  "accelerator": "TPU",
  "colab": {
   "collapsed_sections": [
    "Tce3stUlHN0L"
   ],
   "name": "keras_tuner.ipynb",
   "provenance": []
  },
  "kernelspec": {
   "display_name": "Python 3 (ipykernel)",
   "language": "python",
   "name": "python3"
  },
  "language_info": {
   "codemirror_mode": {
    "name": "ipython",
    "version": 3
   },
   "file_extension": ".py",
   "mimetype": "text/x-python",
   "name": "python",
   "nbconvert_exporter": "python",
   "pygments_lexer": "ipython3",
   "version": "3.8.6"
  },
  "toc": {
   "base_numbering": 1,
   "nav_menu": {},
   "number_sections": true,
   "sideBar": true,
   "skip_h1_title": false,
   "title_cell": "Table of Contents",
   "title_sidebar": "Contents",
   "toc_cell": false,
   "toc_position": {},
   "toc_section_display": true,
   "toc_window_display": false
  }
 },
 "nbformat": 4,
 "nbformat_minor": 1
}
